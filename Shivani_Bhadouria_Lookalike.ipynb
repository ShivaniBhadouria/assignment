{
 "cells": [
  {
   "cell_type": "code",
   "execution_count": 14,
   "id": "e0da3249-821c-4a67-8564-88dfbde222e3",
   "metadata": {
    "scrolled": true
   },
   "outputs": [
    {
     "name": "stdout",
     "output_type": "stream",
     "text": [
      "        0                                                  1\n",
      "0   C0001  [[C0190, 0.9449796330312132], [C0048, 0.943297...\n",
      "1   C0002  [[C0088, 0.9567950735454178], [C0077, 0.908192...\n",
      "2   C0003  [[C0052, 0.9054432967127763], [C0152, 0.837458...\n",
      "3   C0004  [[C0165, 0.9764434526284471], [C0169, 0.928839...\n",
      "4   C0005  [[C0186, 0.9780999104551312], [C0146, 0.962233...\n",
      "5   C0006  [[C0168, 0.9735222664202972], [C0187, 0.941447...\n",
      "6   C0007  [[C0140, 0.9807378835067342], [C0115, 0.930148...\n",
      "7   C0008  [[C0109, 0.8455416700232936], [C0084, 0.815627...\n",
      "8   C0009  [[C0198, 0.9643397739032491], [C0062, 0.929478...\n",
      "9   C0010  [[C0111, 0.9230243277923992], [C0062, 0.904731...\n",
      "10  C0011  [[C0137, 0.9378688431670885], [C0126, 0.920115...\n",
      "11  C0012  [[C0104, 0.9736188526206875], [C0113, 0.939148...\n",
      "12  C0013  [[C0099, 0.9830898690500509], [C0108, 0.927453...\n",
      "13  C0014  [[C0060, 0.9784678112789252], [C0128, 0.958410...\n",
      "14  C0015  [[C0131, 0.9767477723513618], [C0036, 0.971650...\n",
      "15  C0016  [[C0183, 0.9779001275673496], [C0067, 0.835055...\n",
      "16  C0017  [[C0075, 0.9642087488523517], [C0175, 0.895877...\n",
      "17  C0018  [[C0046, 0.8595657079594535], [C0117, 0.843928...\n",
      "18  C0019  [[C0121, 0.8948101267261224], [C0081, 0.798174...\n",
      "19  C0020  [[C0140, 0.9367270147429335], [C0007, 0.899365...\n"
     ]
    }
   ],
   "source": [
    "import pandas as pd\n",
    "import numpy as np\n",
    "from sklearn.metrics.pairwise import cosine_similarity\n",
    "from sklearn.preprocessing import StandardScaler\n",
    "\n",
    "customers_shivani = pd.read_csv('Customers.csv')\n",
    "products_shivani = pd.read_csv('Products.csv')\n",
    "transactions_shivani = pd.read_csv('Transactions.csv')\n",
    "\n",
    "transactions_shivani = pd.merge(transactions_shivani, products_shivani, on='ProductID')\n",
    "\n",
    "total_spending_shivani = transactions_shivani.groupby('CustomerID')['TotalValue'].sum().reset_index()\n",
    "total_spending_shivani.columns = ['CustomerID', 'TotalSpending']\n",
    "\n",
    "avg_transaction_value_shivani = transactions_shivani.groupby('CustomerID')['TotalValue'].mean().reset_index()\n",
    "avg_transaction_value_shivani.columns = ['CustomerID', 'AvgTransactionValue']\n",
    "\n",
    "favorite_category_shivani = transactions_shivani.groupby(['CustomerID', 'Category']).size().reset_index(name='Count')\n",
    "favorite_category_shivani = favorite_category_shivani.loc[favorite_category_shivani.groupby('CustomerID')['Count'].idxmax()]\n",
    "favorite_category_shivani = favorite_category_shivani[['CustomerID', 'Category']]\n",
    "favorite_category_shivani.columns = ['CustomerID', 'FavoriteCategory']\n",
    "\n",
    "num_transactions_shivani = transactions_shivani.groupby('CustomerID').size().reset_index(name='NumTransactions')\n",
    "\n",
    "total_quantity_shivani = transactions_shivani.groupby('CustomerID')['Quantity'].sum().reset_index()\n",
    "total_quantity_shivani.columns = ['CustomerID', 'TotalQuantity']\n",
    "\n",
    "customer_features_shivani = pd.merge(customers_shivani, total_spending_shivani, on='CustomerID', how='left')\n",
    "customer_features_shivani = pd.merge(customer_features_shivani, avg_transaction_value_shivani, on='CustomerID', how='left')\n",
    "customer_features_shivani = pd.merge(customer_features_shivani, favorite_category_shivani, on='CustomerID', how='left')\n",
    "customer_features_shivani = pd.merge(customer_features_shivani, num_transactions_shivani, on='CustomerID', how='left')\n",
    "customer_features_shivani = pd.merge(customer_features_shivani, total_quantity_shivani, on='CustomerID', how='left')\n",
    "\n",
    "customer_features_shivani.fillna(0, inplace=True)\n",
    "\n",
    "customer_features_shivani = pd.get_dummies(customer_features_shivani, columns=['FavoriteCategory', 'Region'], drop_first=True)\n",
    "\n",
    "scaler_shivani = StandardScaler()\n",
    "numerical_features_shivani = ['TotalSpending', 'AvgTransactionValue', 'NumTransactions', 'TotalQuantity']\n",
    "customer_features_shivani[numerical_features_shivani] = scaler_shivani.fit_transform(customer_features_shivani[numerical_features_shivani])\n",
    "\n",
    "customer_features_shivani.set_index('CustomerID', inplace=True)\n",
    "customer_features_shivani.drop(columns=['CustomerName', 'SignupDate'], inplace=True)\n",
    "\n",
    "similarity_matrix_shivani = cosine_similarity(customer_features_shivani)\n",
    "\n",
    "similarity_df_shivani = pd.DataFrame(similarity_matrix_shivani, index=customer_features_shivani.index, columns=customer_features_shivani.index)\n",
    "\n",
    "def bhdouria(customer_id, similarity_df_shivani, top_n=3):\n",
    "    similar_customers_shivani = similarity_df_shivani[customer_id].drop(customer_id).sort_values(ascending=False).head(top_n)\n",
    "    return similar_customers_shivani\n",
    "\n",
    "shivani_map = {}\n",
    "for customer_id in customer_features_shivani.index[:20]:\n",
    "    similar_customers_shivani = bhdouria(customer_id, similarity_df_shivani)\n",
    "    shivani_map[customer_id] = [[similar_customer_shivani, float(score_shivani)] for similar_customer_shivani, score_shivani in zip(similar_customers_shivani.index, similar_customers_shivani.values)]\n",
    "\n",
    "shivani_df = pd.DataFrame(shivani_map.items())\n",
    "\n",
    "# Save the DataFrame to CSV without the header\n",
    "shivani_df.to_csv('Shivani_Bhadouria_Lookalike.csv', index=False, header=False)\n",
    "\n",
    "print(shivani_df)"
   ]
  },
  {
   "cell_type": "code",
   "execution_count": null,
   "id": "fb799f0e-7b75-41e1-82c9-6cd497a9d4e8",
   "metadata": {},
   "outputs": [],
   "source": []
  },
  {
   "cell_type": "code",
   "execution_count": null,
   "id": "84f01794-01ab-4e1a-86e8-17a330436825",
   "metadata": {},
   "outputs": [],
   "source": []
  },
  {
   "cell_type": "code",
   "execution_count": null,
   "id": "5d6cf00b-2b81-4866-904b-3c037dc5d118",
   "metadata": {},
   "outputs": [],
   "source": []
  }
 ],
 "metadata": {
  "kernelspec": {
   "display_name": "Python 3 (ipykernel)",
   "language": "python",
   "name": "python3"
  },
  "language_info": {
   "codemirror_mode": {
    "name": "ipython",
    "version": 3
   },
   "file_extension": ".py",
   "mimetype": "text/x-python",
   "name": "python",
   "nbconvert_exporter": "python",
   "pygments_lexer": "ipython3",
   "version": "3.13.1"
  }
 },
 "nbformat": 4,
 "nbformat_minor": 5
}
